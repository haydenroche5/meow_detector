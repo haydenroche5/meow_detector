{
 "cells": [
  {
   "cell_type": "code",
   "execution_count": 1,
   "metadata": {},
   "outputs": [],
   "source": [
    "import librosa\n",
    "import librosa.display\n",
    "import scipy.io.wavfile as wav\n",
    "from pathlib import Path\n",
    "import numpy as np\n",
    "import matplotlib.pyplot as plt\n",
    "import seaborn as sns\n",
    "import pandas as pd\n",
    "from shutil import copyfile"
   ]
  },
  {
   "cell_type": "code",
   "execution_count": 66,
   "metadata": {},
   "outputs": [
    {
     "name": "stdout",
     "output_type": "stream",
     "text": [
      "Num files: 163.\n"
     ]
    }
   ],
   "source": [
    "data_dir = Path('/home/hayden/proj/ml/meow_stop/meows/')\n",
    "wav_files = list(data_dir.glob('**/*.wav'))\n",
    "print('Num files: {}.'.format(len(wav_files)))"
   ]
  },
  {
   "cell_type": "code",
   "execution_count": 74,
   "metadata": {},
   "outputs": [
    {
     "name": "stdout",
     "output_type": "stream",
     "text": [
      "Old max: 0, new max: 12388.\n",
      "Old max: 12388, new max: 20795.\n",
      "Old max: 20795, new max: 21236.\n",
      "Old max: 21236, new max: 22565.\n",
      "Old max: 22565, new max: 25693.\n",
      "Old max: 25693, new max: 29841.\n",
      "Old max: 29841, new max: 31551.\n",
      "Old max: 31551, new max: 33310.\n",
      "Old max: 33310, new max: 42804.\n",
      "Longest file is /home/hayden/proj/ml/meow_stop/meows/kaggle/cat_13_0.wav at 1.9412244897959183 seconds.\n"
     ]
    }
   ],
   "source": [
    "# First, ensure all data has the same frame rate and number of channels.\n",
    "\n",
    "audio_arrays = []\n",
    "max_len = 0\n",
    "longest_file = ''\n",
    "\n",
    "for f in wav_files:\n",
    "    audio, sample_rate = librosa.load(f)\n",
    "    audio_arrays.append(audio)\n",
    "    \n",
    "    if len(audio) > max_len:\n",
    "        print('Old max: {}, new max: {}.'.format(max_len, len(audio)))\n",
    "        max_len = len(audio)\n",
    "        longest_file = f\n",
    "        \n",
    "max_len_seconds = max_len / sample_rate\n",
    "print('Longest file is {} at {} seconds.'.format(longest_file, max_len_seconds))\n",
    "# num_frames.sort(reverse=True, key = lambda x: x[1])\n",
    "# print(num_frames[0])\n",
    "# print(max(num_frames, key=lambda item:item[1]))\n",
    "\n",
    "# unique_sample_rates, counts = np.unique(sample_rates, return_counts=True)\n",
    "# plt.bar([str(sr) for sr in unique_sample_rates], counts)\n",
    "# plt.show()\n",
    "\n",
    "# unique_num_channels, counts = np.unique(num_channels, return_counts=True)\n",
    "# plt.bar([str(nc) for nc in unique_num_channels], counts)\n",
    "# plt.show()"
   ]
  },
  {
   "cell_type": "code",
   "execution_count": 68,
   "metadata": {},
   "outputs": [],
   "source": [
    "# Make all clips the same length by adding zero padding to the end of those that are shorter than the longest one.\n",
    "# audio_arrays_padded = [np.pad(audio_array, (0, max_len - len(audio_array)), 'constant', constant_values=(0, 0)) for audio_array in audio_arrays]"
   ]
  },
  {
   "cell_type": "code",
   "execution_count": 69,
   "metadata": {},
   "outputs": [],
   "source": [
    "# From here: https://medium.com/@mikesmales/sound-classification-using-deep-learning-8bc2aa1990b7\n",
    "def extract_features(audio):\n",
    "    # Only keep coefficients 2-13 and subtract the means of each (https://haythamfayek.com/2016/04/21/speech-processing-for-machine-learning.html)\n",
    "#     mfcc = librosa.feature.mfcc(y=audio, sr=sample_rate, n_mfcc=40)[2:14].T\n",
    "#     mfcc -= (np.mean(mfcc, axis=0) + 1e-8)\n",
    "#     return mfcc\n",
    "    \n",
    "    # Only keep coefficients 2-13 and take the average of each\n",
    "    mfcc = librosa.feature.mfcc(y=audio, sr=sample_rate, n_mfcc=40)[2:14]\n",
    "    mfcc_avgs = np.mean(mfcc, axis=1)     \n",
    "    return mfcc_avgs"
   ]
  },
  {
   "cell_type": "code",
   "execution_count": 70,
   "metadata": {},
   "outputs": [
    {
     "name": "stdout",
     "output_type": "stream",
     "text": [
      "(163, 12)\n"
     ]
    },
    {
     "data": {
      "text/html": [
       "<div>\n",
       "<style scoped>\n",
       "    .dataframe tbody tr th:only-of-type {\n",
       "        vertical-align: middle;\n",
       "    }\n",
       "\n",
       "    .dataframe tbody tr th {\n",
       "        vertical-align: top;\n",
       "    }\n",
       "\n",
       "    .dataframe thead th {\n",
       "        text-align: right;\n",
       "    }\n",
       "</style>\n",
       "<table border=\"1\" class=\"dataframe\">\n",
       "  <thead>\n",
       "    <tr style=\"text-align: right;\">\n",
       "      <th></th>\n",
       "      <th>mfcc_2</th>\n",
       "      <th>mfcc_3</th>\n",
       "      <th>mfcc_4</th>\n",
       "      <th>mfcc_5</th>\n",
       "      <th>mfcc_6</th>\n",
       "      <th>mfcc_7</th>\n",
       "      <th>mfcc_8</th>\n",
       "      <th>mfcc_9</th>\n",
       "      <th>mfcc_10</th>\n",
       "      <th>mfcc_11</th>\n",
       "      <th>mfcc_12</th>\n",
       "      <th>mfcc_13</th>\n",
       "    </tr>\n",
       "  </thead>\n",
       "  <tbody>\n",
       "    <tr>\n",
       "      <th>0</th>\n",
       "      <td>-90.224014</td>\n",
       "      <td>41.141239</td>\n",
       "      <td>-20.184118</td>\n",
       "      <td>27.250246</td>\n",
       "      <td>-43.306591</td>\n",
       "      <td>22.062889</td>\n",
       "      <td>-19.886065</td>\n",
       "      <td>-0.633164</td>\n",
       "      <td>14.530294</td>\n",
       "      <td>-14.261170</td>\n",
       "      <td>-0.049259</td>\n",
       "      <td>-23.300520</td>\n",
       "    </tr>\n",
       "    <tr>\n",
       "      <th>1</th>\n",
       "      <td>-71.721321</td>\n",
       "      <td>52.600670</td>\n",
       "      <td>-22.982832</td>\n",
       "      <td>23.071135</td>\n",
       "      <td>-28.568306</td>\n",
       "      <td>13.368711</td>\n",
       "      <td>-19.530357</td>\n",
       "      <td>-6.280271</td>\n",
       "      <td>8.341313</td>\n",
       "      <td>-12.621789</td>\n",
       "      <td>7.931168</td>\n",
       "      <td>-14.389843</td>\n",
       "    </tr>\n",
       "    <tr>\n",
       "      <th>2</th>\n",
       "      <td>-57.468460</td>\n",
       "      <td>9.802992</td>\n",
       "      <td>-18.484432</td>\n",
       "      <td>26.040045</td>\n",
       "      <td>-37.638596</td>\n",
       "      <td>20.687260</td>\n",
       "      <td>-11.287644</td>\n",
       "      <td>1.990124</td>\n",
       "      <td>13.307290</td>\n",
       "      <td>-11.054138</td>\n",
       "      <td>-13.097839</td>\n",
       "      <td>-24.853971</td>\n",
       "    </tr>\n",
       "    <tr>\n",
       "      <th>3</th>\n",
       "      <td>-63.481346</td>\n",
       "      <td>41.639458</td>\n",
       "      <td>-24.303101</td>\n",
       "      <td>24.595953</td>\n",
       "      <td>-37.543724</td>\n",
       "      <td>8.330663</td>\n",
       "      <td>-11.040250</td>\n",
       "      <td>7.654106</td>\n",
       "      <td>14.313297</td>\n",
       "      <td>-10.909854</td>\n",
       "      <td>-11.700035</td>\n",
       "      <td>-34.658184</td>\n",
       "    </tr>\n",
       "    <tr>\n",
       "      <th>4</th>\n",
       "      <td>-69.635307</td>\n",
       "      <td>29.803057</td>\n",
       "      <td>-14.485731</td>\n",
       "      <td>39.146622</td>\n",
       "      <td>-12.947083</td>\n",
       "      <td>10.403741</td>\n",
       "      <td>4.183125</td>\n",
       "      <td>3.120703</td>\n",
       "      <td>3.511979</td>\n",
       "      <td>-3.837701</td>\n",
       "      <td>5.892772</td>\n",
       "      <td>-6.472486</td>\n",
       "    </tr>\n",
       "  </tbody>\n",
       "</table>\n",
       "</div>"
      ],
      "text/plain": [
       "      mfcc_2     mfcc_3     mfcc_4     mfcc_5     mfcc_6     mfcc_7  \\\n",
       "0 -90.224014  41.141239 -20.184118  27.250246 -43.306591  22.062889   \n",
       "1 -71.721321  52.600670 -22.982832  23.071135 -28.568306  13.368711   \n",
       "2 -57.468460   9.802992 -18.484432  26.040045 -37.638596  20.687260   \n",
       "3 -63.481346  41.639458 -24.303101  24.595953 -37.543724   8.330663   \n",
       "4 -69.635307  29.803057 -14.485731  39.146622 -12.947083  10.403741   \n",
       "\n",
       "      mfcc_8    mfcc_9    mfcc_10    mfcc_11    mfcc_12    mfcc_13  \n",
       "0 -19.886065 -0.633164  14.530294 -14.261170  -0.049259 -23.300520  \n",
       "1 -19.530357 -6.280271   8.341313 -12.621789   7.931168 -14.389843  \n",
       "2 -11.287644  1.990124  13.307290 -11.054138 -13.097839 -24.853971  \n",
       "3 -11.040250  7.654106  14.313297 -10.909854 -11.700035 -34.658184  \n",
       "4   4.183125  3.120703   3.511979  -3.837701   5.892772  -6.472486  "
      ]
     },
     "execution_count": 70,
     "metadata": {},
     "output_type": "execute_result"
    }
   ],
   "source": [
    "features_per_file = np.stack([extract_features(a) for a in audio_arrays], axis=0)\n",
    "print(features_per_file.shape)\n",
    "columns = ['mfcc_' + str(i) for i in range(2, 14)]\n",
    "df = pd.DataFrame(features_per_file, columns=columns)\n",
    "df.head()"
   ]
  },
  {
   "cell_type": "code",
   "execution_count": 44,
   "metadata": {},
   "outputs": [
    {
     "data": {
      "image/png": "[encoded data removed]",
      "text/plain": [
       "<Figure size 720x288 with 2 Axes>"
      ]
     },
     "metadata": {
      "needs_background": "light"
     },
     "output_type": "display_data"
    }
   ],
   "source": [
    "# plt.figure(figsize=(10, 4))\n",
    "# librosa.display.specshow(features_per_file[10].T, x_axis='time', cmap='viridis')\n",
    "# plt.colorbar()\n",
    "# plt.title('MFCC {}'.format(wav_files[10]))\n",
    "# plt.show()"
   ]
  },
  {
   "cell_type": "code",
   "execution_count": 3,
   "metadata": {},
   "outputs": [
    {
     "data": {
      "text/html": [
       "<div>\n",
       "<style scoped>\n",
       "    .dataframe tbody tr th:only-of-type {\n",
       "        vertical-align: middle;\n",
       "    }\n",
       "\n",
       "    .dataframe tbody tr th {\n",
       "        vertical-align: top;\n",
       "    }\n",
       "\n",
       "    .dataframe thead th {\n",
       "        text-align: right;\n",
       "    }\n",
       "</style>\n",
       "<table border=\"1\" class=\"dataframe\">\n",
       "  <thead>\n",
       "    <tr style=\"text-align: right;\">\n",
       "      <th></th>\n",
       "      <th>slice_file_name</th>\n",
       "      <th>fsID</th>\n",
       "      <th>start</th>\n",
       "      <th>end</th>\n",
       "      <th>salience</th>\n",
       "      <th>fold</th>\n",
       "      <th>classID</th>\n",
       "      <th>class</th>\n",
       "    </tr>\n",
       "  </thead>\n",
       "  <tbody>\n",
       "    <tr>\n",
       "      <th>0</th>\n",
       "      <td>100032-3-0-0.wav</td>\n",
       "      <td>100032</td>\n",
       "      <td>0.0</td>\n",
       "      <td>0.317551</td>\n",
       "      <td>1</td>\n",
       "      <td>5</td>\n",
       "      <td>3</td>\n",
       "      <td>dog_bark</td>\n",
       "    </tr>\n",
       "    <tr>\n",
       "      <th>1</th>\n",
       "      <td>100263-2-0-117.wav</td>\n",
       "      <td>100263</td>\n",
       "      <td>58.5</td>\n",
       "      <td>62.500000</td>\n",
       "      <td>1</td>\n",
       "      <td>5</td>\n",
       "      <td>2</td>\n",
       "      <td>children_playing</td>\n",
       "    </tr>\n",
       "    <tr>\n",
       "      <th>2</th>\n",
       "      <td>100263-2-0-121.wav</td>\n",
       "      <td>100263</td>\n",
       "      <td>60.5</td>\n",
       "      <td>64.500000</td>\n",
       "      <td>1</td>\n",
       "      <td>5</td>\n",
       "      <td>2</td>\n",
       "      <td>children_playing</td>\n",
       "    </tr>\n",
       "    <tr>\n",
       "      <th>3</th>\n",
       "      <td>100263-2-0-126.wav</td>\n",
       "      <td>100263</td>\n",
       "      <td>63.0</td>\n",
       "      <td>67.000000</td>\n",
       "      <td>1</td>\n",
       "      <td>5</td>\n",
       "      <td>2</td>\n",
       "      <td>children_playing</td>\n",
       "    </tr>\n",
       "    <tr>\n",
       "      <th>4</th>\n",
       "      <td>100263-2-0-137.wav</td>\n",
       "      <td>100263</td>\n",
       "      <td>68.5</td>\n",
       "      <td>72.500000</td>\n",
       "      <td>1</td>\n",
       "      <td>5</td>\n",
       "      <td>2</td>\n",
       "      <td>children_playing</td>\n",
       "    </tr>\n",
       "  </tbody>\n",
       "</table>\n",
       "</div>"
      ],
      "text/plain": [
       "      slice_file_name    fsID  start        end  salience  fold  classID  \\\n",
       "0    100032-3-0-0.wav  100032    0.0   0.317551         1     5        3   \n",
       "1  100263-2-0-117.wav  100263   58.5  62.500000         1     5        2   \n",
       "2  100263-2-0-121.wav  100263   60.5  64.500000         1     5        2   \n",
       "3  100263-2-0-126.wav  100263   63.0  67.000000         1     5        2   \n",
       "4  100263-2-0-137.wav  100263   68.5  72.500000         1     5        2   \n",
       "\n",
       "              class  \n",
       "0          dog_bark  \n",
       "1  children_playing  \n",
       "2  children_playing  \n",
       "3  children_playing  \n",
       "4  children_playing  "
      ]
     },
     "execution_count": 3,
     "metadata": {},
     "output_type": "execute_result"
    }
   ],
   "source": [
    "us8k_csv = '/home/hayden/proj/ml/meow_stop/UrbanSound8K/metadata/UrbanSound8K.csv'\n",
    "us8k_df = pd.read_csv(us8k_csv)\n",
    "us8k_df.head()"
   ]
  },
  {
   "cell_type": "code",
   "execution_count": 79,
   "metadata": {},
   "outputs": [
    {
     "data": {
      "text/plain": [
       "array(['dog_bark', 'children_playing', 'car_horn', 'air_conditioner',\n",
       "       'street_music', 'gun_shot', 'siren', 'engine_idling', 'jackhammer',\n",
       "       'drilling'], dtype=object)"
      ]
     },
     "execution_count": 79,
     "metadata": {},
     "output_type": "execute_result"
    }
   ],
   "source": [
    "us8k_df['class'].unique()"
   ]
  },
  {
   "cell_type": "markdown",
   "metadata": {},
   "source": [
    "I'm interested in these classes for negatives:\n",
    "- children_playing\n",
    "- car_horn\n",
    "- air_conditioner\n",
    "- street_music\n",
    "- siren\n",
    "- engine_idling\n",
    "We'll see how many positives we have, then divide that by the number of classes for negatives above (6). We'll then randomly select that many examples from each negative class for the dataset."
   ]
  },
  {
   "cell_type": "code",
   "execution_count": 4,
   "metadata": {},
   "outputs": [
    {
     "name": "stdout",
     "output_type": "stream",
     "text": [
      "# positives: 192.\n",
      "# negatives: 192.\n",
      "Processing negative class children_playing.\n",
      "Processing negative class car_horn.\n",
      "Processing negative class air_conditioner.\n",
      "Processing negative class street_music.\n",
      "Processing negative class siren.\n",
      "Processing negative class engine_idling.\n"
     ]
    }
   ],
   "source": [
    "classes = ['children_playing',\n",
    "           'car_horn',\n",
    "           'air_conditioner',\n",
    "           'street_music',\n",
    "           'siren',\n",
    "           'engine_idling']\n",
    "\n",
    "meow_dir = Path('/home/hayden/proj/ml/meow_stop/data/meow/')\n",
    "not_meow_dir = Path('/home/hayden/proj/ml/meow_stop/data/not_meow/')\n",
    "us8k_dir = Path('/home/hayden/proj/ml/meow_stop/UrbanSound8K/audio')\n",
    "\n",
    "num_positives = len(list(meow_dir.glob('*.wav')))\n",
    "num_negatives_per_class = int(num_positives / len(classes))\n",
    "print('# positives: {}.'.format(num_positives))\n",
    "print('# negatives: {}.'.format(num_negatives_per_class * len(classes)))\n",
    "\n",
    "for c in classes:\n",
    "    print('Processing negative class {}.'.format(c))\n",
    "    \n",
    "    # Grab num_negatives_per_class random files from the class\n",
    "    class_rows = us8k_df[us8k_df['class'] == c]\n",
    "    random_class_files = class_rows['slice_file_name'].sample(n=num_negatives_per_class)\n",
    "    \n",
    "    # Copy them to the dataset negatives directory\n",
    "    random_class_files.apply(lambda f: copyfile(Path(us8k_dir, f), Path(not_meow_dir, f)))"
   ]
  },
  {
   "cell_type": "code",
   "execution_count": null,
   "metadata": {},
   "outputs": [],
   "source": []
  }
 ],
 "metadata": {
  "kernelspec": {
   "display_name": "Python [conda env:meow]",
   "language": "python",
   "name": "conda-env-meow-py"
  },
  "language_info": {
   "codemirror_mode": {
    "name": "ipython",
    "version": 3
   },
   "file_extension": ".py",
   "mimetype": "text/x-python",
   "name": "python",
   "nbconvert_exporter": "python",
   "pygments_lexer": "ipython3",
   "version": "3.8.2"
  }
 },
 "nbformat": 4,
 "nbformat_minor": 4
}
