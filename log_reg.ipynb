{
 "cells": [
  {
   "cell_type": "code",
   "execution_count": 34,
   "metadata": {},
   "outputs": [],
   "source": [
    "import librosa\n",
    "from pathlib import Path\n",
    "import numpy as np\n",
    "from sklearn.preprocessing import StandardScaler\n",
    "from sklearn.linear_model import LogisticRegression\n",
    "from sklearn.model_selection import train_test_split\n",
    "from sklearn.pipeline import make_pipeline\n",
    "import joblib\n",
    "import pandas as pd\n",
    "import os\n",
    "from shutil import copyfile"
   ]
  },
  {
   "cell_type": "code",
   "execution_count": 35,
   "metadata": {},
   "outputs": [],
   "source": [
    "data_dir = Path('/home/hayden/proj/ml/meow_stop/data/')\n",
    "meow_dir = Path(data_dir, 'meow/')\n",
    "not_meow_dir = Path(data_dir, 'not_meow/')"
   ]
  },
  {
   "cell_type": "code",
   "execution_count": 36,
   "metadata": {},
   "outputs": [
    {
     "name": "stdout",
     "output_type": "stream",
     "text": [
      "# positives: 192.\n",
      "# negatives: 192.\n",
      "Processing negative class children_playing.\n",
      "Processing negative class car_horn.\n",
      "Processing negative class air_conditioner.\n",
      "Processing negative class street_music.\n",
      "Processing negative class siren.\n",
      "Processing negative class engine_idling.\n"
     ]
    }
   ],
   "source": [
    "# Create negatives\n",
    "\n",
    "if len(os.listdir(not_meow_dir)) != 0: \n",
    "    raise Exception('Negatives directory isn\\'t empty. Clear before proceeding.')\n",
    "\n",
    "us8k_csv = '/home/hayden/proj/ml/meow_stop/UrbanSound8K/metadata/UrbanSound8K.csv'\n",
    "us8k_df = pd.read_csv(us8k_csv)\n",
    "\n",
    "classes = ['children_playing',\n",
    "           'car_horn',\n",
    "           'air_conditioner',\n",
    "           'street_music',\n",
    "           'siren',\n",
    "           'engine_idling']\n",
    "\n",
    "meow_dir = Path('/home/hayden/proj/ml/meow_stop/data/meow/')\n",
    "not_meow_dir = Path('/home/hayden/proj/ml/meow_stop/data/not_meow/')\n",
    "us8k_dir = Path('/home/hayden/proj/ml/meow_stop/UrbanSound8K/audio')\n",
    "\n",
    "num_positives = len(list(meow_dir.glob('*.wav')))\n",
    "num_negatives_per_class = int(num_positives / len(classes))\n",
    "print('# positives: {}.'.format(num_positives))\n",
    "print('# negatives: {}.'.format(num_negatives_per_class * len(classes)))\n",
    "\n",
    "for c in classes:\n",
    "    print('Processing negative class {}.'.format(c))\n",
    "    \n",
    "    # Grab num_negatives_per_class random files from the class\n",
    "    class_rows = us8k_df[us8k_df['class'] == c]\n",
    "    random_class_files = class_rows['slice_file_name'].sample(n=num_negatives_per_class)\n",
    "    \n",
    "    # Copy them to the dataset negatives directory\n",
    "    random_class_files.apply(lambda f: copyfile(Path(us8k_dir, f), Path(not_meow_dir, f)))"
   ]
  },
  {
   "cell_type": "code",
   "execution_count": 37,
   "metadata": {},
   "outputs": [],
   "source": [
    "def load_data(data_dir):\n",
    "    return [librosa.load(f)[0] for f in data_dir.glob('**/*.wav')]"
   ]
  },
  {
   "cell_type": "code",
   "execution_count": 38,
   "metadata": {},
   "outputs": [],
   "source": [
    "meow_data = load_data(meow_dir)\n",
    "not_meow_data = load_data(not_meow_dir)"
   ]
  },
  {
   "cell_type": "code",
   "execution_count": 39,
   "metadata": {},
   "outputs": [],
   "source": [
    "def extract_features(data):\n",
    "    clip_features = []\n",
    "    \n",
    "    for clip in data:\n",
    "        mfcc = librosa.feature.mfcc(y=clip, sr=22050, n_mfcc=40)\n",
    "        mfcc_avgs = np.mean(mfcc, axis=1)\n",
    "        clip_features.append(mfcc_avgs)\n",
    "    \n",
    "    return np.stack(clip_features, axis=0)"
   ]
  },
  {
   "cell_type": "code",
   "execution_count": 40,
   "metadata": {},
   "outputs": [],
   "source": [
    "meow_extracted_features = extract_features(meow_data)\n",
    "meow_labels = np.ones(len(meow_extracted_features))\n",
    "not_meow_extracted_features = extract_features(not_meow_data)\n",
    "not_meow_labels = np.zeros(len(not_meow_extracted_features))"
   ]
  },
  {
   "cell_type": "code",
   "execution_count": 41,
   "metadata": {},
   "outputs": [
    {
     "name": "stdout",
     "output_type": "stream",
     "text": [
      "(192, 40)\n",
      "(192, 40)\n"
     ]
    }
   ],
   "source": [
    "print(meow_extracted_features.shape)\n",
    "print(not_meow_extracted_features.shape)"
   ]
  },
  {
   "cell_type": "code",
   "execution_count": 42,
   "metadata": {},
   "outputs": [
    {
     "name": "stdout",
     "output_type": "stream",
     "text": [
      "x shape: (384, 40).\n",
      "y shape: (384,).\n"
     ]
    }
   ],
   "source": [
    "x = np.concatenate((meow_extracted_features, not_meow_extracted_features), axis=0)\n",
    "y = np.concatenate((meow_labels, not_meow_labels), axis=0)\n",
    "\n",
    "print('x shape: {}.'.format(x.shape))\n",
    "print('y shape: {}.'.format(y.shape))"
   ]
  },
  {
   "cell_type": "code",
   "execution_count": 43,
   "metadata": {},
   "outputs": [
    {
     "data": {
      "text/plain": [
       "Pipeline(memory=None,\n",
       "         steps=[('standardscaler',\n",
       "                 StandardScaler(copy=True, with_mean=True, with_std=True)),\n",
       "                ('logisticregression',\n",
       "                 LogisticRegression(C=1.0, class_weight=None, dual=False,\n",
       "                                    fit_intercept=True, intercept_scaling=1,\n",
       "                                    l1_ratio=None, max_iter=100,\n",
       "                                    multi_class='auto', n_jobs=None,\n",
       "                                    penalty='l2', random_state=None,\n",
       "                                    solver='lbfgs', tol=0.0001, verbose=0,\n",
       "                                    warm_start=False))],\n",
       "         verbose=False)"
      ]
     },
     "execution_count": 43,
     "metadata": {},
     "output_type": "execute_result"
    }
   ],
   "source": [
    "x_train, x_test, y_train, y_test = train_test_split(x, y, test_size=0.3)\n",
    "model = make_pipeline(StandardScaler(), LogisticRegression())\n",
    "model.fit(x_train, y_train)"
   ]
  },
  {
   "cell_type": "code",
   "execution_count": 44,
   "metadata": {},
   "outputs": [
    {
     "name": "stdout",
     "output_type": "stream",
     "text": [
      "Accuracy of logistic regression classifier on test set: 0.96\n"
     ]
    }
   ],
   "source": [
    "y_pred = model.predict(x_test)\n",
    "print('Accuracy of logistic regression classifier on test set: {:.2f}'.format(model.score(x_test, y_test)))"
   ]
  },
  {
   "cell_type": "code",
   "execution_count": 45,
   "metadata": {},
   "outputs": [
    {
     "data": {
      "text/plain": [
       "['models/model.pkl']"
      ]
     },
     "execution_count": 45,
     "metadata": {},
     "output_type": "execute_result"
    }
   ],
   "source": [
    "joblib.dump(model, 'models/model.pkl')"
   ]
  },
  {
   "cell_type": "code",
   "execution_count": 107,
   "metadata": {},
   "outputs": [
    {
     "data": {
      "text/plain": [
       "PCA(copy=True, iterated_power='auto', n_components=2, random_state=None,\n",
       "    svd_solver='auto', tol=0.0, whiten=False)"
      ]
     },
     "execution_count": 107,
     "metadata": {},
     "output_type": "execute_result"
    }
   ],
   "source": [
    "pca = PCA(n_components=2)\n",
    "pca.fit(x)"
   ]
  },
  {
   "cell_type": "code",
   "execution_count": 88,
   "metadata": {},
   "outputs": [
    {
     "data": {
      "text/plain": [
       "<matplotlib.collections.PathCollection at 0x7fbc39db2e80>"
      ]
     },
     "execution_count": 88,
     "metadata": {},
     "output_type": "execute_result"
    },
    {
     "data": {
      "image/png": "[encoded data removed]",
      "text/plain": [
       "<Figure size 720x360 with 1 Axes>"
      ]
     },
     "metadata": {
      "needs_background": "light"
     },
     "output_type": "display_data"
    }
   ],
   "source": [
    "fig, ax = plt.subplots(figsize=(10, 5))\n",
    "ax.scatter(x_pca[:, 0], x_pca[:, 1], c=y)"
   ]
  },
  {
   "cell_type": "code",
   "execution_count": null,
   "metadata": {},
   "outputs": [],
   "source": []
  }
 ],
 "metadata": {
  "kernelspec": {
   "display_name": "Python [conda env:meow]",
   "language": "python",
   "name": "conda-env-meow-py"
  },
  "language_info": {
   "codemirror_mode": {
    "name": "ipython",
    "version": 3
   },
   "file_extension": ".py",
   "mimetype": "text/x-python",
   "name": "python",
   "nbconvert_exporter": "python",
   "pygments_lexer": "ipython3",
   "version": "3.8.2"
  }
 },
 "nbformat": 4,
 "nbformat_minor": 4
}
